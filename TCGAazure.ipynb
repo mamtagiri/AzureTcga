{
 "cells": [
  {
   "cell_type": "code",
   "execution_count": 1,
   "id": "baba558b",
   "metadata": {},
   "outputs": [],
   "source": [
    "import os\n",
    "from tcgaazurepackage import tcgadata\n",
    "os.chdir(\"/Users/mamtagiri/Downloads/TCGAtest/tcgaazure\") \n",
    "from pandas import json_normalize\n",
    "import json\n",
    "import pandas as pd\n",
    "import numpy as np\n",
    "\n",
    "import uuid\n",
    "import sys\n",
    "import os\n",
    "import pandas as pd"
   ]
  },
  {
   "cell_type": "code",
   "execution_count": 2,
   "id": "7a991f12",
   "metadata": {},
   "outputs": [],
   "source": [
    "from azure.storage.blob import BlobServiceClient\n",
    "service = BlobServiceClient(account_url=\"https://datasettcga.blob.core.windows.net/\", credential=\"?sp=r&st=2022-09-23T17:51:10Z&se=2025-09-02T01:51:10Z&spr=https&sv=2021-06-08&sr=c&sig=k44eVLkcrrJZCMrqijJjywE4G%2BG%2BC0f7CZ0xZFlQB0A%3D\")\n",
    "container=service.get_container_client('dataset')\n"
   ]
  },
  {
   "cell_type": "code",
   "execution_count": 3,
   "id": "8046a9c4",
   "metadata": {},
   "outputs": [
    {
     "name": "stdout",
     "output_type": "stream",
     "text": [
      "CPU times: user 431 ms, sys: 231 ms, total: 662 ms\n",
      "Wall time: 714 ms\n"
     ]
    }
   ],
   "source": [
    "%time meta = pd.read_parquet('/Users/mamtagiri/Downloads/TCGAtest/FinalMeta_33projects.parquet', engine='pyarrow')\n"
   ]
  },
  {
   "cell_type": "code",
   "execution_count": 4,
   "id": "b353bd76",
   "metadata": {},
   "outputs": [
    {
     "name": "stdout",
     "output_type": "stream",
     "text": [
      "CPU times: user 33.6 ms, sys: 6.08 ms, total: 39.7 ms\n",
      "Wall time: 46 ms\n"
     ]
    }
   ],
   "source": [
    "datacategory= \"Copy Number Variation\"\n",
    "projectID=\"TCGA-DLBC\"\n",
    "datatype= \"Masked Copy Number Segment\"\n",
    "sampletype=\"Primary Tumor\"\n",
    "%time p = tcgadata.testfunction(meta,projectID,datacategory,datatype,sampletype)"
   ]
  },
  {
   "cell_type": "code",
   "execution_count": 5,
   "id": "92f5cc7b",
   "metadata": {},
   "outputs": [
    {
     "data": {
      "text/html": [
       "<div>\n",
       "<style scoped>\n",
       "    .dataframe tbody tr th:only-of-type {\n",
       "        vertical-align: middle;\n",
       "    }\n",
       "\n",
       "    .dataframe tbody tr th {\n",
       "        vertical-align: top;\n",
       "    }\n",
       "\n",
       "    .dataframe thead th {\n",
       "        text-align: right;\n",
       "    }\n",
       "</style>\n",
       "<table border=\"1\" class=\"dataframe\">\n",
       "  <thead>\n",
       "    <tr style=\"text-align: right;\">\n",
       "      <th></th>\n",
       "      <th>Unnamed: 0</th>\n",
       "      <th>id</th>\n",
       "      <th>cases</th>\n",
       "      <th>data_format</th>\n",
       "      <th>access</th>\n",
       "      <th>file_name</th>\n",
       "      <th>file_size</th>\n",
       "      <th>state</th>\n",
       "      <th>data_category</th>\n",
       "      <th>created_datetime</th>\n",
       "      <th>...</th>\n",
       "      <th>analysis_submitter_id</th>\n",
       "      <th>platform</th>\n",
       "      <th>analysis_workflow_link</th>\n",
       "      <th>project</th>\n",
       "      <th>cases.submitter_id</th>\n",
       "      <th>sample.submitter_id</th>\n",
       "      <th>sample_type</th>\n",
       "      <th>case_id</th>\n",
       "      <th>legacy</th>\n",
       "      <th>location</th>\n",
       "    </tr>\n",
       "  </thead>\n",
       "  <tbody>\n",
       "    <tr>\n",
       "      <th>3297</th>\n",
       "      <td>3298</td>\n",
       "      <td>8805ab31-c7a8-4543-80e3-02bfd08f9211</td>\n",
       "      <td>TCGA-GS-A9TU-01A-11D-A381-01</td>\n",
       "      <td>TXT</td>\n",
       "      <td>open</td>\n",
       "      <td>VOLAR_p_TCGAb_397_398_399_NSP_GenomeWideSNP_6_...</td>\n",
       "      <td>10014</td>\n",
       "      <td>released</td>\n",
       "      <td>Copy Number Variation</td>\n",
       "      <td>2016-05-02T22:58:10.020513-05:00</td>\n",
       "      <td>...</td>\n",
       "      <td>03a8d0fe-da79-4deb-956f-d4cb1ea6ede4_dnacopy</td>\n",
       "      <td>Affymetrix SNP 6.0</td>\n",
       "      <td>https://github.com/NCI-GDC/dnacopy-tool</td>\n",
       "      <td>TCGA-DLBC</td>\n",
       "      <td>TCGA-GS-A9TU</td>\n",
       "      <td>TCGA-GS-A9TU-01A</td>\n",
       "      <td>Primary Tumor</td>\n",
       "      <td>1ea575f1-f731-408b-a629-f5f4abab569e</td>\n",
       "      <td>False</td>\n",
       "      <td>TCGA/8805ab31-c7a8-4543-80e3-02bfd08f9211/VOLA...</td>\n",
       "    </tr>\n",
       "    <tr>\n",
       "      <th>3317</th>\n",
       "      <td>3318</td>\n",
       "      <td>8edbbd43-a8ec-4743-a27a-cb975d81101e</td>\n",
       "      <td>TCGA-FF-8041-01A-11D-2209-01</td>\n",
       "      <td>TXT</td>\n",
       "      <td>open</td>\n",
       "      <td>CENTS_p_TCGASNP_212_216_217_N_GenomeWideSNP_6_...</td>\n",
       "      <td>15879</td>\n",
       "      <td>released</td>\n",
       "      <td>Copy Number Variation</td>\n",
       "      <td>2016-05-03T03:47:39.759740-05:00</td>\n",
       "      <td>...</td>\n",
       "      <td>bc2f7dff-47ed-4072-804c-61e673d6e0ec_dnacopy</td>\n",
       "      <td>Affymetrix SNP 6.0</td>\n",
       "      <td>https://github.com/NCI-GDC/dnacopy-tool</td>\n",
       "      <td>TCGA-DLBC</td>\n",
       "      <td>TCGA-FF-8041</td>\n",
       "      <td>TCGA-FF-8041-01A</td>\n",
       "      <td>Primary Tumor</td>\n",
       "      <td>1f971af1-6772-4fe6-8d35-bbe527a037fe</td>\n",
       "      <td>False</td>\n",
       "      <td>TCGA/8edbbd43-a8ec-4743-a27a-cb975d81101e/CENT...</td>\n",
       "    </tr>\n",
       "    <tr>\n",
       "      <th>3332</th>\n",
       "      <td>3333</td>\n",
       "      <td>6339ae78-f0f1-45e0-a315-0f898d9e6f94</td>\n",
       "      <td>TCGA-G8-6907-01A-11D-2209-01</td>\n",
       "      <td>TXT</td>\n",
       "      <td>open</td>\n",
       "      <td>CENTS_p_TCGASNP_212_216_217_N_GenomeWideSNP_6_...</td>\n",
       "      <td>8504</td>\n",
       "      <td>released</td>\n",
       "      <td>Copy Number Variation</td>\n",
       "      <td>2016-05-03T03:51:19.160456-05:00</td>\n",
       "      <td>...</td>\n",
       "      <td>c06684f0-504d-4929-99d9-cae8a3c69ae5_dnacopy</td>\n",
       "      <td>Affymetrix SNP 6.0</td>\n",
       "      <td>https://github.com/NCI-GDC/dnacopy-tool</td>\n",
       "      <td>TCGA-DLBC</td>\n",
       "      <td>TCGA-G8-6907</td>\n",
       "      <td>TCGA-G8-6907-01A</td>\n",
       "      <td>Primary Tumor</td>\n",
       "      <td>31bbad4e-3789-42ec-9faa-1cb86970f723</td>\n",
       "      <td>False</td>\n",
       "      <td>TCGA/6339ae78-f0f1-45e0-a315-0f898d9e6f94/CENT...</td>\n",
       "    </tr>\n",
       "  </tbody>\n",
       "</table>\n",
       "<p>3 rows × 26 columns</p>\n",
       "</div>"
      ],
      "text/plain": [
       "      Unnamed: 0                                    id  \\\n",
       "3297        3298  8805ab31-c7a8-4543-80e3-02bfd08f9211   \n",
       "3317        3318  8edbbd43-a8ec-4743-a27a-cb975d81101e   \n",
       "3332        3333  6339ae78-f0f1-45e0-a315-0f898d9e6f94   \n",
       "\n",
       "                             cases data_format access  \\\n",
       "3297  TCGA-GS-A9TU-01A-11D-A381-01         TXT   open   \n",
       "3317  TCGA-FF-8041-01A-11D-2209-01         TXT   open   \n",
       "3332  TCGA-G8-6907-01A-11D-2209-01         TXT   open   \n",
       "\n",
       "                                              file_name  file_size     state  \\\n",
       "3297  VOLAR_p_TCGAb_397_398_399_NSP_GenomeWideSNP_6_...      10014  released   \n",
       "3317  CENTS_p_TCGASNP_212_216_217_N_GenomeWideSNP_6_...      15879  released   \n",
       "3332  CENTS_p_TCGASNP_212_216_217_N_GenomeWideSNP_6_...       8504  released   \n",
       "\n",
       "              data_category                  created_datetime  ...  \\\n",
       "3297  Copy Number Variation  2016-05-02T22:58:10.020513-05:00  ...   \n",
       "3317  Copy Number Variation  2016-05-03T03:47:39.759740-05:00  ...   \n",
       "3332  Copy Number Variation  2016-05-03T03:51:19.160456-05:00  ...   \n",
       "\n",
       "                             analysis_submitter_id            platform  \\\n",
       "3297  03a8d0fe-da79-4deb-956f-d4cb1ea6ede4_dnacopy  Affymetrix SNP 6.0   \n",
       "3317  bc2f7dff-47ed-4072-804c-61e673d6e0ec_dnacopy  Affymetrix SNP 6.0   \n",
       "3332  c06684f0-504d-4929-99d9-cae8a3c69ae5_dnacopy  Affymetrix SNP 6.0   \n",
       "\n",
       "                       analysis_workflow_link    project cases.submitter_id  \\\n",
       "3297  https://github.com/NCI-GDC/dnacopy-tool  TCGA-DLBC       TCGA-GS-A9TU   \n",
       "3317  https://github.com/NCI-GDC/dnacopy-tool  TCGA-DLBC       TCGA-FF-8041   \n",
       "3332  https://github.com/NCI-GDC/dnacopy-tool  TCGA-DLBC       TCGA-G8-6907   \n",
       "\n",
       "     sample.submitter_id    sample_type                               case_id  \\\n",
       "3297    TCGA-GS-A9TU-01A  Primary Tumor  1ea575f1-f731-408b-a629-f5f4abab569e   \n",
       "3317    TCGA-FF-8041-01A  Primary Tumor  1f971af1-6772-4fe6-8d35-bbe527a037fe   \n",
       "3332    TCGA-G8-6907-01A  Primary Tumor  31bbad4e-3789-42ec-9faa-1cb86970f723   \n",
       "\n",
       "     legacy                                           location  \n",
       "3297  False  TCGA/8805ab31-c7a8-4543-80e3-02bfd08f9211/VOLA...  \n",
       "3317  False  TCGA/8edbbd43-a8ec-4743-a27a-cb975d81101e/CENT...  \n",
       "3332  False  TCGA/6339ae78-f0f1-45e0-a315-0f898d9e6f94/CENT...  \n",
       "\n",
       "[3 rows x 26 columns]"
      ]
     },
     "execution_count": 5,
     "metadata": {},
     "output_type": "execute_result"
    }
   ],
   "source": [
    "p1=p.iloc[:3]\n",
    "p1"
   ]
  },
  {
   "cell_type": "code",
   "execution_count": 6,
   "id": "5836d564",
   "metadata": {},
   "outputs": [],
   "source": [
    "tcgadata.download(\"/Users/mamtagiri/Downloads/TCGAtest/\",p1)"
   ]
  },
  {
   "cell_type": "code",
   "execution_count": 7,
   "id": "ba385ad7-b394-49c9-8ba1-e1c328691b31",
   "metadata": {},
   "outputs": [
    {
     "data": {
      "text/plain": [
       "'/Users/mamtagiri/Downloads/TCGAtest/tcgaazure'"
      ]
     },
     "execution_count": 7,
     "metadata": {},
     "output_type": "execute_result"
    }
   ],
   "source": [
    "pwd"
   ]
  },
  {
   "cell_type": "code",
   "execution_count": null,
   "id": "4b437b4a-ab5c-43a0-979e-a0f4bf6dbf34",
   "metadata": {},
   "outputs": [],
   "source": []
  }
 ],
 "metadata": {
  "kernelspec": {
   "display_name": "Python 3 (ipykernel)",
   "language": "python",
   "name": "python3"
  },
  "language_info": {
   "codemirror_mode": {
    "name": "ipython",
    "version": 3
   },
   "file_extension": ".py",
   "mimetype": "text/x-python",
   "name": "python",
   "nbconvert_exporter": "python",
   "pygments_lexer": "ipython3",
   "version": "3.9.12"
  }
 },
 "nbformat": 4,
 "nbformat_minor": 5
}

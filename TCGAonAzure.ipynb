{
 "cells": [
  {
   "cell_type": "markdown",
   "id": "2038202c-6029-4a63-a9bd-b4d0b666b3ff",
   "metadata": {},
   "source": [
    "## Notebook to access TCGA open data from Azure"
   ]
  },
  {
   "cell_type": "markdown",
   "id": "10b9abd9-76f2-40d1-86b2-195e84036919",
   "metadata": {},
   "source": [
    "Here we will show an example of querying and downloading [TCGA open data hosted on azure] and use it downstream with TCGABiolinks to format and analyze."
   ]
  },
  {
   "cell_type": "markdown",
   "id": "f6b13fa9-586b-41b9-a5c6-abafeb09fc24",
   "metadata": {},
   "source": [
    "### Step 1: Install necessary packages"
   ]
  },
  {
   "cell_type": "code",
   "execution_count": 1,
   "id": "f39ad503-1e67-408e-9213-4456aa35170d",
   "metadata": {},
   "outputs": [
    {
     "name": "stderr",
     "output_type": "stream",
     "text": [
      "Skipping install of 'tcgaazureR' from a github remote, the SHA1 (f26190a7) has not changed since last install.\n",
      "  Use `force = TRUE` to force installation\n",
      "\n"
     ]
    }
   ],
   "source": [
    "#Install the required packages, [mamtagiri/tcgaazureR](https://github.com/mamtagiri/tcgaazureR) is a package to access TCGA open data on azure\n",
    "devtools::install_github('mamtagiri/tcgaazureR')"
   ]
  },
  {
   "cell_type": "code",
   "execution_count": 2,
   "id": "3316d12a-5651-49c7-ab66-778bb61ff25b",
   "metadata": {},
   "outputs": [
    {
     "name": "stderr",
     "output_type": "stream",
     "text": [
      "Warning message:\n",
      "“package(s) not installed when version(s) same as current; use `force = TRUE` to\n",
      "  re-install: 'TCGAbiolinks'”\n"
     ]
    }
   ],
   "source": [
    "# Install TCGAbiolinks for downstream analysis of TCGA open data\n",
    "if (!requireNamespace(\"BiocManager\", quietly = TRUE))\n",
    "    suppressMessages(install.packages(\"BiocManager\"))\n",
    "\n",
    "suppressMessages(BiocManager::install(\"TCGAbiolinks\"))"
   ]
  },
  {
   "cell_type": "markdown",
   "id": "40111b4e-0a56-43fe-a56a-f46ad36dd106",
   "metadata": {},
   "source": [
    "### Step 2: Load the packages"
   ]
  },
  {
   "cell_type": "code",
   "execution_count": 3,
   "id": "2837c233-0fae-4847-b7d2-c1898d91159e",
   "metadata": {},
   "outputs": [
    {
     "name": "stderr",
     "output_type": "stream",
     "text": [
      "Loading required package: TCGAbiolinks\n",
      "\n",
      "Loading required package: AzureStor\n",
      "\n",
      "Loading required package: AzureRMR\n",
      "\n",
      "Loading required package: tcgaazureR\n",
      "\n",
      "Loading required package: dplyr\n",
      "\n",
      "\n",
      "Attaching package: ‘dplyr’\n",
      "\n",
      "\n",
      "The following objects are masked from ‘package:stats’:\n",
      "\n",
      "    filter, lag\n",
      "\n",
      "\n",
      "The following objects are masked from ‘package:base’:\n",
      "\n",
      "    intersect, setdiff, setequal, union\n",
      "\n",
      "\n"
     ]
    },
    {
     "data": {
      "text/html": [
       "<ol>\n",
       "\t<li>TRUE</li>\n",
       "\t<li>TRUE</li>\n",
       "\t<li>TRUE</li>\n",
       "\t<li>TRUE</li>\n",
       "\t<li>TRUE</li>\n",
       "</ol>\n"
      ],
      "text/latex": [
       "\\begin{enumerate}\n",
       "\\item TRUE\n",
       "\\item TRUE\n",
       "\\item TRUE\n",
       "\\item TRUE\n",
       "\\item TRUE\n",
       "\\end{enumerate}\n"
      ],
      "text/markdown": [
       "1. TRUE\n",
       "2. TRUE\n",
       "3. TRUE\n",
       "4. TRUE\n",
       "5. TRUE\n",
       "\n",
       "\n"
      ],
      "text/plain": [
       "[[1]]\n",
       "[1] TRUE\n",
       "\n",
       "[[2]]\n",
       "[1] TRUE\n",
       "\n",
       "[[3]]\n",
       "[1] TRUE\n",
       "\n",
       "[[4]]\n",
       "[1] TRUE\n",
       "\n",
       "[[5]]\n",
       "[1] TRUE\n"
      ]
     },
     "metadata": {},
     "output_type": "display_data"
    }
   ],
   "source": [
    "packages<-c(\"TCGAbiolinks\",\"AzureStor\",\"AzureRMR\",\"tcgaazureR\",\"dplyr\")\n",
    "lapply(packages, require, character.only = TRUE)\n"
   ]
  },
  {
   "cell_type": "markdown",
   "id": "d5de9419-db2a-4376-9edd-8374d6e6131a",
   "metadata": {},
   "source": [
    "### Step 3: Load metadata and query the data"
   ]
  },
  {
   "cell_type": "code",
   "execution_count": 4,
   "id": "b39701b3-026b-48b1-bffb-b6589832d04c",
   "metadata": {},
   "outputs": [],
   "source": [
    "data(metadata, package=\"tcgaazureR\") #load tcga meta data from tcgaazureR package\n",
    "\n",
    "#try an example query to download required data, projectid,datacategory,datatype,sampletype\n",
    "query<-tcgaquery(metadata,projectid=\"TCGA-DLBC\",datacategory=\"Copy Number Variation\",datatype=\"Masked Copy Number Segment\",sampletype=\"Primary Tumor\")\n"
   ]
  },
  {
   "cell_type": "code",
   "execution_count": 5,
   "id": "7b201577-96d9-4997-80f7-466b80d784ef",
   "metadata": {},
   "outputs": [
    {
     "data": {
      "text/html": [
       "<table class=\"dataframe\">\n",
       "<caption>A data.frame: 1 × 8</caption>\n",
       "<thead>\n",
       "\t<tr><th scope=col>results</th><th scope=col>project</th><th scope=col>data.category</th><th scope=col>data.type</th><th scope=col>access</th><th scope=col>legacy</th><th scope=col>experimental.strategy</th><th scope=col>sample.type</th></tr>\n",
       "\t<tr><th scope=col>&lt;I&lt;list&gt;&gt;</th><th scope=col>&lt;chr&gt;</th><th scope=col>&lt;chr&gt;</th><th scope=col>&lt;chr&gt;</th><th scope=col>&lt;I&lt;list&gt;&gt;</th><th scope=col>&lt;lgl&gt;</th><th scope=col>&lt;I&lt;list&gt;&gt;</th><th scope=col>&lt;I&lt;list&gt;&gt;</th></tr>\n",
       "</thead>\n",
       "<tbody>\n",
       "\t<tr><td>c(\"8805a....</td><td>TCGA-DLBC</td><td>Copy Number Variation</td><td>Masked Copy Number Segment</td><td>open</td><td>FALSE</td><td>Genotypi....</td><td>Primary ....</td></tr>\n",
       "</tbody>\n",
       "</table>\n"
      ],
      "text/latex": [
       "A data.frame: 1 × 8\n",
       "\\begin{tabular}{llllllll}\n",
       " results & project & data.category & data.type & access & legacy & experimental.strategy & sample.type\\\\\n",
       " <I<list>> & <chr> & <chr> & <chr> & <I<list>> & <lgl> & <I<list>> & <I<list>>\\\\\n",
       "\\hline\n",
       "\t c(\"8805a.... & TCGA-DLBC & Copy Number Variation & Masked Copy Number Segment & open & FALSE & Genotypi.... & Primary ....\\\\\n",
       "\\end{tabular}\n"
      ],
      "text/markdown": [
       "\n",
       "A data.frame: 1 × 8\n",
       "\n",
       "| results &lt;I&lt;list&gt;&gt; | project &lt;chr&gt; | data.category &lt;chr&gt; | data.type &lt;chr&gt; | access &lt;I&lt;list&gt;&gt; | legacy &lt;lgl&gt; | experimental.strategy &lt;I&lt;list&gt;&gt; | sample.type &lt;I&lt;list&gt;&gt; |\n",
       "|---|---|---|---|---|---|---|---|\n",
       "| c(\"8805a.... | TCGA-DLBC | Copy Number Variation | Masked Copy Number Segment | open | FALSE | Genotypi.... | Primary .... |\n",
       "\n"
      ],
      "text/plain": [
       "  results      project   data.category         data.type                 \n",
       "1 c(\"8805a.... TCGA-DLBC Copy Number Variation Masked Copy Number Segment\n",
       "  access legacy experimental.strategy sample.type \n",
       "1 open   FALSE  Genotypi....          Primary ...."
      ]
     },
     "metadata": {},
     "output_type": "display_data"
    },
    {
     "data": {
      "text/html": [
       "<table class=\"dataframe\">\n",
       "<caption>A data.frame: 5 × 7</caption>\n",
       "<thead>\n",
       "\t<tr><th></th><th scope=col>id</th><th scope=col>cases</th><th scope=col>data_format</th><th scope=col>access</th><th scope=col>file_name</th><th scope=col>file_size</th><th scope=col>state</th></tr>\n",
       "\t<tr><th></th><th scope=col>&lt;chr&gt;</th><th scope=col>&lt;chr&gt;</th><th scope=col>&lt;chr&gt;</th><th scope=col>&lt;chr&gt;</th><th scope=col>&lt;chr&gt;</th><th scope=col>&lt;int&gt;</th><th scope=col>&lt;chr&gt;</th></tr>\n",
       "</thead>\n",
       "<tbody>\n",
       "\t<tr><th scope=row>1</th><td>8805ab31-c7a8-4543-80e3-02bfd08f9211</td><td>TCGA-GS-A9TU-01A-11D-A381-01</td><td>TXT</td><td>open</td><td>VOLAR_p_TCGAb_397_398_399_NSP_GenomeWideSNP_6_A09_1473382.nocnv_grch38.seg.v2.txt</td><td>10014</td><td>released</td></tr>\n",
       "\t<tr><th scope=row>2</th><td>8edbbd43-a8ec-4743-a27a-cb975d81101e</td><td>TCGA-FF-8041-01A-11D-2209-01</td><td>TXT</td><td>open</td><td>CENTS_p_TCGASNP_212_216_217_N_GenomeWideSNP_6_D10_1039584.nocnv_grch38.seg.v2.txt</td><td>15879</td><td>released</td></tr>\n",
       "\t<tr><th scope=row>3</th><td>6339ae78-f0f1-45e0-a315-0f898d9e6f94</td><td>TCGA-G8-6907-01A-11D-2209-01</td><td>TXT</td><td>open</td><td>CENTS_p_TCGASNP_212_216_217_N_GenomeWideSNP_6_E07_1039560.nocnv_grch38.seg.v2.txt</td><td> 8504</td><td>released</td></tr>\n",
       "\t<tr><th scope=row>4</th><td>c2253381-06d0-43e7-a621-7bba63c7d5cd</td><td>TCGA-FF-A7CX-01A-12D-A381-01</td><td>TXT</td><td>open</td><td>VOLAR_p_TCGAb_397_398_399_NSP_GenomeWideSNP_6_B09_1473338.nocnv_grch38.seg.v2.txt</td><td>28039</td><td>released</td></tr>\n",
       "\t<tr><th scope=row>5</th><td>a82aacde-3814-4516-9449-2c8a86e5f66d</td><td>TCGA-G8-6914-01A-11D-2209-01</td><td>TXT</td><td>open</td><td>CENTS_p_TCGASNP_212_216_217_N_GenomeWideSNP_6_G03_1039550.nocnv_grch38.seg.v2.txt</td><td>34434</td><td>released</td></tr>\n",
       "</tbody>\n",
       "</table>\n"
      ],
      "text/latex": [
       "A data.frame: 5 × 7\n",
       "\\begin{tabular}{r|lllllll}\n",
       "  & id & cases & data\\_format & access & file\\_name & file\\_size & state\\\\\n",
       "  & <chr> & <chr> & <chr> & <chr> & <chr> & <int> & <chr>\\\\\n",
       "\\hline\n",
       "\t1 & 8805ab31-c7a8-4543-80e3-02bfd08f9211 & TCGA-GS-A9TU-01A-11D-A381-01 & TXT & open & VOLAR\\_p\\_TCGAb\\_397\\_398\\_399\\_NSP\\_GenomeWideSNP\\_6\\_A09\\_1473382.nocnv\\_grch38.seg.v2.txt & 10014 & released\\\\\n",
       "\t2 & 8edbbd43-a8ec-4743-a27a-cb975d81101e & TCGA-FF-8041-01A-11D-2209-01 & TXT & open & CENTS\\_p\\_TCGASNP\\_212\\_216\\_217\\_N\\_GenomeWideSNP\\_6\\_D10\\_1039584.nocnv\\_grch38.seg.v2.txt & 15879 & released\\\\\n",
       "\t3 & 6339ae78-f0f1-45e0-a315-0f898d9e6f94 & TCGA-G8-6907-01A-11D-2209-01 & TXT & open & CENTS\\_p\\_TCGASNP\\_212\\_216\\_217\\_N\\_GenomeWideSNP\\_6\\_E07\\_1039560.nocnv\\_grch38.seg.v2.txt &  8504 & released\\\\\n",
       "\t4 & c2253381-06d0-43e7-a621-7bba63c7d5cd & TCGA-FF-A7CX-01A-12D-A381-01 & TXT & open & VOLAR\\_p\\_TCGAb\\_397\\_398\\_399\\_NSP\\_GenomeWideSNP\\_6\\_B09\\_1473338.nocnv\\_grch38.seg.v2.txt & 28039 & released\\\\\n",
       "\t5 & a82aacde-3814-4516-9449-2c8a86e5f66d & TCGA-G8-6914-01A-11D-2209-01 & TXT & open & CENTS\\_p\\_TCGASNP\\_212\\_216\\_217\\_N\\_GenomeWideSNP\\_6\\_G03\\_1039550.nocnv\\_grch38.seg.v2.txt & 34434 & released\\\\\n",
       "\\end{tabular}\n"
      ],
      "text/markdown": [
       "\n",
       "A data.frame: 5 × 7\n",
       "\n",
       "| <!--/--> | id &lt;chr&gt; | cases &lt;chr&gt; | data_format &lt;chr&gt; | access &lt;chr&gt; | file_name &lt;chr&gt; | file_size &lt;int&gt; | state &lt;chr&gt; |\n",
       "|---|---|---|---|---|---|---|---|\n",
       "| 1 | 8805ab31-c7a8-4543-80e3-02bfd08f9211 | TCGA-GS-A9TU-01A-11D-A381-01 | TXT | open | VOLAR_p_TCGAb_397_398_399_NSP_GenomeWideSNP_6_A09_1473382.nocnv_grch38.seg.v2.txt | 10014 | released |\n",
       "| 2 | 8edbbd43-a8ec-4743-a27a-cb975d81101e | TCGA-FF-8041-01A-11D-2209-01 | TXT | open | CENTS_p_TCGASNP_212_216_217_N_GenomeWideSNP_6_D10_1039584.nocnv_grch38.seg.v2.txt | 15879 | released |\n",
       "| 3 | 6339ae78-f0f1-45e0-a315-0f898d9e6f94 | TCGA-G8-6907-01A-11D-2209-01 | TXT | open | CENTS_p_TCGASNP_212_216_217_N_GenomeWideSNP_6_E07_1039560.nocnv_grch38.seg.v2.txt |  8504 | released |\n",
       "| 4 | c2253381-06d0-43e7-a621-7bba63c7d5cd | TCGA-FF-A7CX-01A-12D-A381-01 | TXT | open | VOLAR_p_TCGAb_397_398_399_NSP_GenomeWideSNP_6_B09_1473338.nocnv_grch38.seg.v2.txt | 28039 | released |\n",
       "| 5 | a82aacde-3814-4516-9449-2c8a86e5f66d | TCGA-G8-6914-01A-11D-2209-01 | TXT | open | CENTS_p_TCGASNP_212_216_217_N_GenomeWideSNP_6_G03_1039550.nocnv_grch38.seg.v2.txt | 34434 | released |\n",
       "\n"
      ],
      "text/plain": [
       "  id                                   cases                        data_format\n",
       "1 8805ab31-c7a8-4543-80e3-02bfd08f9211 TCGA-GS-A9TU-01A-11D-A381-01 TXT        \n",
       "2 8edbbd43-a8ec-4743-a27a-cb975d81101e TCGA-FF-8041-01A-11D-2209-01 TXT        \n",
       "3 6339ae78-f0f1-45e0-a315-0f898d9e6f94 TCGA-G8-6907-01A-11D-2209-01 TXT        \n",
       "4 c2253381-06d0-43e7-a621-7bba63c7d5cd TCGA-FF-A7CX-01A-12D-A381-01 TXT        \n",
       "5 a82aacde-3814-4516-9449-2c8a86e5f66d TCGA-G8-6914-01A-11D-2209-01 TXT        \n",
       "  access\n",
       "1 open  \n",
       "2 open  \n",
       "3 open  \n",
       "4 open  \n",
       "5 open  \n",
       "  file_name                                                                        \n",
       "1 VOLAR_p_TCGAb_397_398_399_NSP_GenomeWideSNP_6_A09_1473382.nocnv_grch38.seg.v2.txt\n",
       "2 CENTS_p_TCGASNP_212_216_217_N_GenomeWideSNP_6_D10_1039584.nocnv_grch38.seg.v2.txt\n",
       "3 CENTS_p_TCGASNP_212_216_217_N_GenomeWideSNP_6_E07_1039560.nocnv_grch38.seg.v2.txt\n",
       "4 VOLAR_p_TCGAb_397_398_399_NSP_GenomeWideSNP_6_B09_1473338.nocnv_grch38.seg.v2.txt\n",
       "5 CENTS_p_TCGASNP_212_216_217_N_GenomeWideSNP_6_G03_1039550.nocnv_grch38.seg.v2.txt\n",
       "  file_size state   \n",
       "1 10014     released\n",
       "2 15879     released\n",
       "3  8504     released\n",
       "4 28039     released\n",
       "5 34434     released"
      ]
     },
     "metadata": {},
     "output_type": "display_data"
    }
   ],
   "source": [
    "# a look into the query data object, this is very similar to TCGAbiolinks format\n",
    "query\n",
    "query$results[[1]][1:5,1:7]"
   ]
  },
  {
   "cell_type": "code",
   "execution_count": 6,
   "id": "b41fbeb3-33d2-4f22-8cae-ed7a81fceb9a",
   "metadata": {},
   "outputs": [],
   "source": [
    "#subetting the data only for two files for the purpose of this demo\n",
    "list<-c(\"f207eeee-e644-4eeb-8de8-91e086bb2324\",\"ff5bfff6-6716-477b-966a-18ac6ed4aa50\")\n",
    "query$results[[1]]<-filter(query$results[[1]],query$results[[1]]$id %in% list)"
   ]
  },
  {
   "cell_type": "markdown",
   "id": "07ecf6c1-9771-41b4-8cdc-f7195f1e2962",
   "metadata": {},
   "source": [
    "### Step 4: Download the data from Azure"
   ]
  },
  {
   "cell_type": "code",
   "execution_count": 7,
   "id": "1a84d3ad-b70d-48e5-81fe-ed784356e716",
   "metadata": {},
   "outputs": [],
   "source": [
    "# PROVIDE THE SAS token and URL for the TCGA data on azure\n",
    "container<-blob_container(\"https://datasettcga.blob.core.windows.net/dataset\",sas =\"sp=rl&st=2022-11-07T16:59:11Z&se=2030-12-01T00:59:11Z&spr=https&sv=2021-06-08&sr=c&sig=A4AWnyISkPi9JZRanNwcQNgAagxUih1J%2FeJ9T5kHyfc%3D\")\n"
   ]
  },
  {
   "cell_type": "code",
   "execution_count": 8,
   "id": "bd52b3ba-84b8-43ee-88b3-d60034f75129",
   "metadata": {},
   "outputs": [],
   "source": [
    "# download the list of two files from 19 to a folder structure which is similar to TCGAbiolinks\n",
    "querydownload(query,\"GDCdata\",container=container)"
   ]
  },
  {
   "cell_type": "markdown",
   "id": "f5daa92c-e2e3-4c1f-8a41-356429d35532",
   "metadata": {},
   "source": [
    "The data is now downloaded into the local directory under a folder \"GDCdata\". YOu can choose to use the downstream tool of your choice or you can format the data for tcgabiolinks"
   ]
  },
  {
   "cell_type": "markdown",
   "id": "cdbdbd8d-576d-4b74-b27a-e14e16041343",
   "metadata": {},
   "source": [
    "### Step 5: Prepare data for analysis"
   ]
  },
  {
   "cell_type": "code",
   "execution_count": 9,
   "id": "11943003-b817-4676-830d-dbe893944f49",
   "metadata": {},
   "outputs": [],
   "source": [
    "#Prepare the data for downstream analysis as in TCGAbiolinks (you can skip this step if you use other tools for analysis)"
   ]
  },
  {
   "cell_type": "code",
   "execution_count": 10,
   "id": "1c6409ab-7992-4a9e-8637-3ba514dfddae",
   "metadata": {},
   "outputs": [
    {
     "name": "stderr",
     "output_type": "stream",
     "text": [
      "Reading copy number variation files\n",
      "\n"
     ]
    }
   ],
   "source": [
    "cnvdata<-GDCprepare(query)"
   ]
  },
  {
   "cell_type": "code",
   "execution_count": 11,
   "id": "d8140a8f-1826-4600-adb1-a7866734c502",
   "metadata": {},
   "outputs": [
    {
     "data": {
      "text/html": [
       "<table class=\"dataframe\">\n",
       "<caption>A tibble: 10 × 7</caption>\n",
       "<thead>\n",
       "\t<tr><th scope=col>GDC_Aliquot</th><th scope=col>Chromosome</th><th scope=col>Start</th><th scope=col>End</th><th scope=col>Num_Probes</th><th scope=col>Segment_Mean</th><th scope=col>Sample</th></tr>\n",
       "\t<tr><th scope=col>&lt;chr&gt;</th><th scope=col>&lt;chr&gt;</th><th scope=col>&lt;dbl&gt;</th><th scope=col>&lt;dbl&gt;</th><th scope=col>&lt;dbl&gt;</th><th scope=col>&lt;dbl&gt;</th><th scope=col>&lt;chr&gt;</th></tr>\n",
       "</thead>\n",
       "<tbody>\n",
       "\t<tr><td>7c1555c9-336c-474b-997a-5d6229e3469e</td><td>1</td><td>  3301765</td><td>  6176837</td><td> 1980</td><td>-0.5139</td><td>TCGA-G8-6909-01A-11D-2209-01</td></tr>\n",
       "\t<tr><td>7c1555c9-336c-474b-997a-5d6229e3469e</td><td>1</td><td>  6183275</td><td> 30120508</td><td>12420</td><td>-0.0386</td><td>TCGA-G8-6909-01A-11D-2209-01</td></tr>\n",
       "\t<tr><td>7c1555c9-336c-474b-997a-5d6229e3469e</td><td>1</td><td> 30122383</td><td> 30147019</td><td>   20</td><td> 0.2789</td><td>TCGA-G8-6909-01A-11D-2209-01</td></tr>\n",
       "\t<tr><td>7c1555c9-336c-474b-997a-5d6229e3469e</td><td>1</td><td> 30150062</td><td> 65356699</td><td>20940</td><td>-0.0431</td><td>TCGA-G8-6909-01A-11D-2209-01</td></tr>\n",
       "\t<tr><td>7c1555c9-336c-474b-997a-5d6229e3469e</td><td>1</td><td> 65356834</td><td> 66871428</td><td> 1092</td><td>-0.0005</td><td>TCGA-G8-6909-01A-11D-2209-01</td></tr>\n",
       "\t<tr><td>7c1555c9-336c-474b-997a-5d6229e3469e</td><td>1</td><td> 66871602</td><td> 85961574</td><td>11340</td><td>-0.0329</td><td>TCGA-G8-6909-01A-11D-2209-01</td></tr>\n",
       "\t<tr><td>7c1555c9-336c-474b-997a-5d6229e3469e</td><td>1</td><td> 85962623</td><td> 90939165</td><td> 3161</td><td>-0.0054</td><td>TCGA-G8-6909-01A-11D-2209-01</td></tr>\n",
       "\t<tr><td>7c1555c9-336c-474b-997a-5d6229e3469e</td><td>1</td><td> 90941020</td><td>103963580</td><td> 7533</td><td>-0.0398</td><td>TCGA-G8-6909-01A-11D-2209-01</td></tr>\n",
       "\t<tr><td>7c1555c9-336c-474b-997a-5d6229e3469e</td><td>1</td><td>103963601</td><td>113784174</td><td> 5732</td><td>-0.0099</td><td>TCGA-G8-6909-01A-11D-2209-01</td></tr>\n",
       "\t<tr><td>7c1555c9-336c-474b-997a-5d6229e3469e</td><td>1</td><td>113787580</td><td>115219844</td><td>  921</td><td>-0.0477</td><td>TCGA-G8-6909-01A-11D-2209-01</td></tr>\n",
       "</tbody>\n",
       "</table>\n"
      ],
      "text/latex": [
       "A tibble: 10 × 7\n",
       "\\begin{tabular}{lllllll}\n",
       " GDC\\_Aliquot & Chromosome & Start & End & Num\\_Probes & Segment\\_Mean & Sample\\\\\n",
       " <chr> & <chr> & <dbl> & <dbl> & <dbl> & <dbl> & <chr>\\\\\n",
       "\\hline\n",
       "\t 7c1555c9-336c-474b-997a-5d6229e3469e & 1 &   3301765 &   6176837 &  1980 & -0.5139 & TCGA-G8-6909-01A-11D-2209-01\\\\\n",
       "\t 7c1555c9-336c-474b-997a-5d6229e3469e & 1 &   6183275 &  30120508 & 12420 & -0.0386 & TCGA-G8-6909-01A-11D-2209-01\\\\\n",
       "\t 7c1555c9-336c-474b-997a-5d6229e3469e & 1 &  30122383 &  30147019 &    20 &  0.2789 & TCGA-G8-6909-01A-11D-2209-01\\\\\n",
       "\t 7c1555c9-336c-474b-997a-5d6229e3469e & 1 &  30150062 &  65356699 & 20940 & -0.0431 & TCGA-G8-6909-01A-11D-2209-01\\\\\n",
       "\t 7c1555c9-336c-474b-997a-5d6229e3469e & 1 &  65356834 &  66871428 &  1092 & -0.0005 & TCGA-G8-6909-01A-11D-2209-01\\\\\n",
       "\t 7c1555c9-336c-474b-997a-5d6229e3469e & 1 &  66871602 &  85961574 & 11340 & -0.0329 & TCGA-G8-6909-01A-11D-2209-01\\\\\n",
       "\t 7c1555c9-336c-474b-997a-5d6229e3469e & 1 &  85962623 &  90939165 &  3161 & -0.0054 & TCGA-G8-6909-01A-11D-2209-01\\\\\n",
       "\t 7c1555c9-336c-474b-997a-5d6229e3469e & 1 &  90941020 & 103963580 &  7533 & -0.0398 & TCGA-G8-6909-01A-11D-2209-01\\\\\n",
       "\t 7c1555c9-336c-474b-997a-5d6229e3469e & 1 & 103963601 & 113784174 &  5732 & -0.0099 & TCGA-G8-6909-01A-11D-2209-01\\\\\n",
       "\t 7c1555c9-336c-474b-997a-5d6229e3469e & 1 & 113787580 & 115219844 &   921 & -0.0477 & TCGA-G8-6909-01A-11D-2209-01\\\\\n",
       "\\end{tabular}\n"
      ],
      "text/markdown": [
       "\n",
       "A tibble: 10 × 7\n",
       "\n",
       "| GDC_Aliquot &lt;chr&gt; | Chromosome &lt;chr&gt; | Start &lt;dbl&gt; | End &lt;dbl&gt; | Num_Probes &lt;dbl&gt; | Segment_Mean &lt;dbl&gt; | Sample &lt;chr&gt; |\n",
       "|---|---|---|---|---|---|---|\n",
       "| 7c1555c9-336c-474b-997a-5d6229e3469e | 1 |   3301765 |   6176837 |  1980 | -0.5139 | TCGA-G8-6909-01A-11D-2209-01 |\n",
       "| 7c1555c9-336c-474b-997a-5d6229e3469e | 1 |   6183275 |  30120508 | 12420 | -0.0386 | TCGA-G8-6909-01A-11D-2209-01 |\n",
       "| 7c1555c9-336c-474b-997a-5d6229e3469e | 1 |  30122383 |  30147019 |    20 |  0.2789 | TCGA-G8-6909-01A-11D-2209-01 |\n",
       "| 7c1555c9-336c-474b-997a-5d6229e3469e | 1 |  30150062 |  65356699 | 20940 | -0.0431 | TCGA-G8-6909-01A-11D-2209-01 |\n",
       "| 7c1555c9-336c-474b-997a-5d6229e3469e | 1 |  65356834 |  66871428 |  1092 | -0.0005 | TCGA-G8-6909-01A-11D-2209-01 |\n",
       "| 7c1555c9-336c-474b-997a-5d6229e3469e | 1 |  66871602 |  85961574 | 11340 | -0.0329 | TCGA-G8-6909-01A-11D-2209-01 |\n",
       "| 7c1555c9-336c-474b-997a-5d6229e3469e | 1 |  85962623 |  90939165 |  3161 | -0.0054 | TCGA-G8-6909-01A-11D-2209-01 |\n",
       "| 7c1555c9-336c-474b-997a-5d6229e3469e | 1 |  90941020 | 103963580 |  7533 | -0.0398 | TCGA-G8-6909-01A-11D-2209-01 |\n",
       "| 7c1555c9-336c-474b-997a-5d6229e3469e | 1 | 103963601 | 113784174 |  5732 | -0.0099 | TCGA-G8-6909-01A-11D-2209-01 |\n",
       "| 7c1555c9-336c-474b-997a-5d6229e3469e | 1 | 113787580 | 115219844 |   921 | -0.0477 | TCGA-G8-6909-01A-11D-2209-01 |\n",
       "\n"
      ],
      "text/plain": [
       "   GDC_Aliquot                          Chromosome Start     End      \n",
       "1  7c1555c9-336c-474b-997a-5d6229e3469e 1            3301765   6176837\n",
       "2  7c1555c9-336c-474b-997a-5d6229e3469e 1            6183275  30120508\n",
       "3  7c1555c9-336c-474b-997a-5d6229e3469e 1           30122383  30147019\n",
       "4  7c1555c9-336c-474b-997a-5d6229e3469e 1           30150062  65356699\n",
       "5  7c1555c9-336c-474b-997a-5d6229e3469e 1           65356834  66871428\n",
       "6  7c1555c9-336c-474b-997a-5d6229e3469e 1           66871602  85961574\n",
       "7  7c1555c9-336c-474b-997a-5d6229e3469e 1           85962623  90939165\n",
       "8  7c1555c9-336c-474b-997a-5d6229e3469e 1           90941020 103963580\n",
       "9  7c1555c9-336c-474b-997a-5d6229e3469e 1          103963601 113784174\n",
       "10 7c1555c9-336c-474b-997a-5d6229e3469e 1          113787580 115219844\n",
       "   Num_Probes Segment_Mean Sample                      \n",
       "1   1980      -0.5139      TCGA-G8-6909-01A-11D-2209-01\n",
       "2  12420      -0.0386      TCGA-G8-6909-01A-11D-2209-01\n",
       "3     20       0.2789      TCGA-G8-6909-01A-11D-2209-01\n",
       "4  20940      -0.0431      TCGA-G8-6909-01A-11D-2209-01\n",
       "5   1092      -0.0005      TCGA-G8-6909-01A-11D-2209-01\n",
       "6  11340      -0.0329      TCGA-G8-6909-01A-11D-2209-01\n",
       "7   3161      -0.0054      TCGA-G8-6909-01A-11D-2209-01\n",
       "8   7533      -0.0398      TCGA-G8-6909-01A-11D-2209-01\n",
       "9   5732      -0.0099      TCGA-G8-6909-01A-11D-2209-01\n",
       "10   921      -0.0477      TCGA-G8-6909-01A-11D-2209-01"
      ]
     },
     "metadata": {},
     "output_type": "display_data"
    }
   ],
   "source": [
    "#The copy number files in our example now will be combined and we can look at it\n",
    "cnvdata[1:10,]\n",
    "\n"
   ]
  },
  {
   "cell_type": "code",
   "execution_count": null,
   "id": "5fa9ab6b-8550-4784-9a86-589453d8b739",
   "metadata": {},
   "outputs": [],
   "source": []
  }
 ],
 "metadata": {
  "kernelspec": {
   "display_name": "R",
   "language": "R",
   "name": "ir"
  },
  "language_info": {
   "codemirror_mode": "r",
   "file_extension": ".r",
   "mimetype": "text/x-r-source",
   "name": "R",
   "pygments_lexer": "r",
   "version": "4.2.0"
  }
 },
 "nbformat": 4,
 "nbformat_minor": 5
}
